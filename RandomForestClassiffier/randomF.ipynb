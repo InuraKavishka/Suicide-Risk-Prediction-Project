{
 "cells": [
  {
   "cell_type": "markdown",
   "metadata": {
    "collapsed": true,
    "pycharm": {
     "name": "#%% md\n"
    }
   },
   "source": [
    "## Random Forest Classifier\n",
    "\n",
    "#### Importing libraries"
   ]
  },
  {
   "cell_type": "code",
   "execution_count": 112,
   "outputs": [],
   "source": [
    "#Import scikit-learn dataset library\n",
    "from sklearn import datasets\n",
    "import pandas as pd\n",
    "import numpy as np\n",
    "import seaborn as sns\n",
    "from sklearn import preprocessing\n"
   ],
   "metadata": {
    "collapsed": false,
    "pycharm": {
     "name": "#%%\n",
     "is_executing": false
    }
   }
  },
  {
   "cell_type": "markdown",
   "source": [
    "#### Load Datasets"
   ],
   "metadata": {
    "collapsed": false,
    "pycharm": {
     "name": "#%% md\n"
    }
   }
  },
  {
   "cell_type": "code",
   "execution_count": 113,
   "outputs": [
    {
     "data": {
      "text/plain": "    Year  Not Suicide(0)/Suicide(1)  Age Gender    Religon        Race  \\\n0   2018                          0   30      F      Islam      Muslim   \n1   2018                          0   91      F      Islam      Muslim   \n2   2018                          0   85      M      Islam      Muslim   \n3   2017                          1   87      M  Christian  Sinhalese    \n4   2018                          0   59      M      Islam      Muslim   \n5   2017                          1   31      M      Other  Sinhalese    \n6   2018                          0   75      M  Christian      Burger   \n7   2018                          1   47      M   Buddhist  Sinhalese    \n8   2018                          0   58      M  Christian      Burger   \n9   2018                          0   36      M      Hindu       Tamil   \n10  2017                          1   87      M   Buddhist  Sinhalese    \n11  2018                          0   73      M  Christian      Burger   \n12  2017                          1   44      M   Buddhist  Sinhalese    \n13  2016                          1   62      M   Buddhist  Sinhalese    \n14  2018                          0   21      M      Hindu       Tamil   \n15  2015                          1   70      M   Buddhist  Sinhalese    \n16  2018                          0   68      M      Hindu       Tamil   \n17  2017                          1   43      F   Buddhist  Sinhalese    \n18  2018                          0   16      M      Islam      Muslim   \n19  2017                          1   35      M      Hindu       Tamil   \n\n                                 Nature Of Occupation Civil Status  \\\n0   Administrative Executive Managerial & related ...    Unmarried   \n1                                        Sales worker      Married   \n2                                  Security Personnel      Married   \n3                                  Unemployed persons      Married   \n4                                          Pensioners    Unmarried   \n5   Agricultural Animal Husbandry Fisherman & rela...    Unmarried   \n6                                      Armed Services      Married   \n7                                  Unemployed persons      Married   \n8                                      Armed Services    Unmarried   \n9                                      Armed Services      Married   \n10                                 Unemployed persons      Married   \n11  Clerical & related workers (Stenographers/ Typ...      Married   \n12  Agricultural Animal Husbandry Fisherman & rela...      Married   \n13       Service workers (Cooks/Tailors/Barbers/ etc)      Married   \n14                                       Sales worker    Unmarried   \n15                                 Unemployed persons      Married   \n16                                       Sales worker      Married   \n17                                     Armed Services      Married   \n18                                            Student    Unmarried   \n19  Agricultural Animal Husbandry Fisherman & rela...      Married   \n\n               Education Level  \\\n0            From Grade 1 to 7   \n1   University Degree or above   \n2   University Degree or above   \n3          School not attended   \n4                        Other   \n5           Passed G.C.E (O/L)   \n6           Passed G.C.E (A/L)   \n7          School not attended   \n8   University Degree or above   \n9   University Degree or above   \n10              Passed Grade 8   \n11              Passed Grade 8   \n12          Passed G.C.E (O/L)   \n13           From Grade 1 to 7   \n14          Passed G.C.E (O/L)   \n15         School not attended   \n16              Passed Grade 8   \n17          Passed G.C.E (O/L)   \n18          Passed G.C.E (O/L)   \n19              Passed Grade 8   \n\n                                             Reason  ...  \\\n0                                            Asthma  ...   \n1                               Alzheimer's disease  ...   \n2   Stroke/Chronic diseases & Physical disabilities  ...   \n3       Harrasment by the husband & family disputes  ...   \n4                               Alzheimer's disease  ...   \n5       Harrasment by the husband & family disputes  ...   \n6                                     Natural Death  ...   \n7       Harrasment by the husband & family disputes  ...   \n8                                          Diabetes  ...   \n9                                     Natural Death  ...   \n10         Chronic diseases & Physical disabilities  ...   \n11                                    Natural Death  ...   \n12      Harrasment by the husband & family disputes  ...   \n13                                 Mental Disorders  ...   \n14  Stroke/Chronic diseases & Physical disabilities  ...   \n15                                 Mental Disorders  ...   \n16                      Addiction to narcotic drugs  ...   \n17      Harrasment by the husband & family disputes  ...   \n18                                 Mental Disorders  ...   \n19                                    Other Reasons  ...   \n\n    Any suicidal thoughts mentioned  Self-Injurious Behaviour  \\\n0                                 0                         0   \n1                                 0                         0   \n2                                 0                         0   \n3                                 1                         0   \n4                                 0                         0   \n5                                 1                         1   \n6                                 0                         0   \n7                                 1                         1   \n8                                 0                         0   \n9                                 0                         0   \n10                                1                         0   \n11                                0                         0   \n12                                1                         0   \n13                                1                         0   \n14                                0                         0   \n15                                1                         0   \n16                                0                         0   \n17                                1                         1   \n18                                0                         0   \n19                                1                         0   \n\n    Psychiatric Disorders  Past Illnesses Alcohol/ drug Consumption Anger  \\\n0                    None          Asthma                      None     0   \n1                    None           Other                      None     0   \n2                    None        Diabetes                      None     0   \n3                    None    Chronic pain                  Frequent     1   \n4                    None            COPD                      None     0   \n5                    None           Other                  Frequent     1   \n6                    None         Unknown                      None     0   \n7                    None           Other                  Moderate     0   \n8                    None         Unknown                      None     0   \n9                    None         Unknown                      None     0   \n10                  Other        HIV/AIDS                  Frequent     0   \n11                   None  Heart Diseases                      None     0   \n12                   None          Cancer                  Frequent     0   \n13                   PTSD           Other                  Frequent     1   \n14                   None    Chronic pain                      None     0   \n15             Depression           Other                  Frequent     1   \n16                   None           Other                  Frequent     0   \n17             Depression          Cancer                      None     0   \n18             Depression         Unknown                  Moderate     0   \n19             Depression           Other                  Moderate     0   \n\n   Sleep Problem  Social Iscolation  Sad/ Weary  Humilated  \n0              0                  0           0          0  \n1              1                  0           0          0  \n2              1                  0           0          0  \n3              1                  1           1          1  \n4              1                  0           1          1  \n5              1                  1           1          1  \n6              0                  1           0          0  \n7              0                  1           1          0  \n8              0                  0           0          0  \n9              1                  0           0          0  \n10             1                  1           1          0  \n11             1                  0           0          0  \n12             1                  1           1          0  \n13             1                  1           0          1  \n14             1                  0           1          0  \n15             1                  1           1          0  \n16             0                  0           0          0  \n17             1                  1           1          1  \n18             0                  1           0          0  \n19             1                  1           1          0  \n\n[20 rows x 22 columns]",
      "text/html": "<div>\n<style scoped>\n    .dataframe tbody tr th:only-of-type {\n        vertical-align: middle;\n    }\n\n    .dataframe tbody tr th {\n        vertical-align: top;\n    }\n\n    .dataframe thead th {\n        text-align: right;\n    }\n</style>\n<table border=\"1\" class=\"dataframe\">\n  <thead>\n    <tr style=\"text-align: right;\">\n      <th></th>\n      <th>Year</th>\n      <th>Not Suicide(0)/Suicide(1)</th>\n      <th>Age</th>\n      <th>Gender</th>\n      <th>Religon</th>\n      <th>Race</th>\n      <th>Nature Of Occupation</th>\n      <th>Civil Status</th>\n      <th>Education Level</th>\n      <th>Reason</th>\n      <th>...</th>\n      <th>Any suicidal thoughts mentioned</th>\n      <th>Self-Injurious Behaviour</th>\n      <th>Psychiatric Disorders</th>\n      <th>Past Illnesses</th>\n      <th>Alcohol/ drug Consumption</th>\n      <th>Anger</th>\n      <th>Sleep Problem</th>\n      <th>Social Iscolation</th>\n      <th>Sad/ Weary</th>\n      <th>Humilated</th>\n    </tr>\n  </thead>\n  <tbody>\n    <tr>\n      <th>0</th>\n      <td>2018</td>\n      <td>0</td>\n      <td>30</td>\n      <td>F</td>\n      <td>Islam</td>\n      <td>Muslim</td>\n      <td>Administrative Executive Managerial &amp; related ...</td>\n      <td>Unmarried</td>\n      <td>From Grade 1 to 7</td>\n      <td>Asthma</td>\n      <td>...</td>\n      <td>0</td>\n      <td>0</td>\n      <td>None</td>\n      <td>Asthma</td>\n      <td>None</td>\n      <td>0</td>\n      <td>0</td>\n      <td>0</td>\n      <td>0</td>\n      <td>0</td>\n    </tr>\n    <tr>\n      <th>1</th>\n      <td>2018</td>\n      <td>0</td>\n      <td>91</td>\n      <td>F</td>\n      <td>Islam</td>\n      <td>Muslim</td>\n      <td>Sales worker</td>\n      <td>Married</td>\n      <td>University Degree or above</td>\n      <td>Alzheimer's disease</td>\n      <td>...</td>\n      <td>0</td>\n      <td>0</td>\n      <td>None</td>\n      <td>Other</td>\n      <td>None</td>\n      <td>0</td>\n      <td>1</td>\n      <td>0</td>\n      <td>0</td>\n      <td>0</td>\n    </tr>\n    <tr>\n      <th>2</th>\n      <td>2018</td>\n      <td>0</td>\n      <td>85</td>\n      <td>M</td>\n      <td>Islam</td>\n      <td>Muslim</td>\n      <td>Security Personnel</td>\n      <td>Married</td>\n      <td>University Degree or above</td>\n      <td>Stroke/Chronic diseases &amp; Physical disabilities</td>\n      <td>...</td>\n      <td>0</td>\n      <td>0</td>\n      <td>None</td>\n      <td>Diabetes</td>\n      <td>None</td>\n      <td>0</td>\n      <td>1</td>\n      <td>0</td>\n      <td>0</td>\n      <td>0</td>\n    </tr>\n    <tr>\n      <th>3</th>\n      <td>2017</td>\n      <td>1</td>\n      <td>87</td>\n      <td>M</td>\n      <td>Christian</td>\n      <td>Sinhalese</td>\n      <td>Unemployed persons</td>\n      <td>Married</td>\n      <td>School not attended</td>\n      <td>Harrasment by the husband &amp; family disputes</td>\n      <td>...</td>\n      <td>1</td>\n      <td>0</td>\n      <td>None</td>\n      <td>Chronic pain</td>\n      <td>Frequent</td>\n      <td>1</td>\n      <td>1</td>\n      <td>1</td>\n      <td>1</td>\n      <td>1</td>\n    </tr>\n    <tr>\n      <th>4</th>\n      <td>2018</td>\n      <td>0</td>\n      <td>59</td>\n      <td>M</td>\n      <td>Islam</td>\n      <td>Muslim</td>\n      <td>Pensioners</td>\n      <td>Unmarried</td>\n      <td>Other</td>\n      <td>Alzheimer's disease</td>\n      <td>...</td>\n      <td>0</td>\n      <td>0</td>\n      <td>None</td>\n      <td>COPD</td>\n      <td>None</td>\n      <td>0</td>\n      <td>1</td>\n      <td>0</td>\n      <td>1</td>\n      <td>1</td>\n    </tr>\n    <tr>\n      <th>5</th>\n      <td>2017</td>\n      <td>1</td>\n      <td>31</td>\n      <td>M</td>\n      <td>Other</td>\n      <td>Sinhalese</td>\n      <td>Agricultural Animal Husbandry Fisherman &amp; rela...</td>\n      <td>Unmarried</td>\n      <td>Passed G.C.E (O/L)</td>\n      <td>Harrasment by the husband &amp; family disputes</td>\n      <td>...</td>\n      <td>1</td>\n      <td>1</td>\n      <td>None</td>\n      <td>Other</td>\n      <td>Frequent</td>\n      <td>1</td>\n      <td>1</td>\n      <td>1</td>\n      <td>1</td>\n      <td>1</td>\n    </tr>\n    <tr>\n      <th>6</th>\n      <td>2018</td>\n      <td>0</td>\n      <td>75</td>\n      <td>M</td>\n      <td>Christian</td>\n      <td>Burger</td>\n      <td>Armed Services</td>\n      <td>Married</td>\n      <td>Passed G.C.E (A/L)</td>\n      <td>Natural Death</td>\n      <td>...</td>\n      <td>0</td>\n      <td>0</td>\n      <td>None</td>\n      <td>Unknown</td>\n      <td>None</td>\n      <td>0</td>\n      <td>0</td>\n      <td>1</td>\n      <td>0</td>\n      <td>0</td>\n    </tr>\n    <tr>\n      <th>7</th>\n      <td>2018</td>\n      <td>1</td>\n      <td>47</td>\n      <td>M</td>\n      <td>Buddhist</td>\n      <td>Sinhalese</td>\n      <td>Unemployed persons</td>\n      <td>Married</td>\n      <td>School not attended</td>\n      <td>Harrasment by the husband &amp; family disputes</td>\n      <td>...</td>\n      <td>1</td>\n      <td>1</td>\n      <td>None</td>\n      <td>Other</td>\n      <td>Moderate</td>\n      <td>0</td>\n      <td>0</td>\n      <td>1</td>\n      <td>1</td>\n      <td>0</td>\n    </tr>\n    <tr>\n      <th>8</th>\n      <td>2018</td>\n      <td>0</td>\n      <td>58</td>\n      <td>M</td>\n      <td>Christian</td>\n      <td>Burger</td>\n      <td>Armed Services</td>\n      <td>Unmarried</td>\n      <td>University Degree or above</td>\n      <td>Diabetes</td>\n      <td>...</td>\n      <td>0</td>\n      <td>0</td>\n      <td>None</td>\n      <td>Unknown</td>\n      <td>None</td>\n      <td>0</td>\n      <td>0</td>\n      <td>0</td>\n      <td>0</td>\n      <td>0</td>\n    </tr>\n    <tr>\n      <th>9</th>\n      <td>2018</td>\n      <td>0</td>\n      <td>36</td>\n      <td>M</td>\n      <td>Hindu</td>\n      <td>Tamil</td>\n      <td>Armed Services</td>\n      <td>Married</td>\n      <td>University Degree or above</td>\n      <td>Natural Death</td>\n      <td>...</td>\n      <td>0</td>\n      <td>0</td>\n      <td>None</td>\n      <td>Unknown</td>\n      <td>None</td>\n      <td>0</td>\n      <td>1</td>\n      <td>0</td>\n      <td>0</td>\n      <td>0</td>\n    </tr>\n    <tr>\n      <th>10</th>\n      <td>2017</td>\n      <td>1</td>\n      <td>87</td>\n      <td>M</td>\n      <td>Buddhist</td>\n      <td>Sinhalese</td>\n      <td>Unemployed persons</td>\n      <td>Married</td>\n      <td>Passed Grade 8</td>\n      <td>Chronic diseases &amp; Physical disabilities</td>\n      <td>...</td>\n      <td>1</td>\n      <td>0</td>\n      <td>Other</td>\n      <td>HIV/AIDS</td>\n      <td>Frequent</td>\n      <td>0</td>\n      <td>1</td>\n      <td>1</td>\n      <td>1</td>\n      <td>0</td>\n    </tr>\n    <tr>\n      <th>11</th>\n      <td>2018</td>\n      <td>0</td>\n      <td>73</td>\n      <td>M</td>\n      <td>Christian</td>\n      <td>Burger</td>\n      <td>Clerical &amp; related workers (Stenographers/ Typ...</td>\n      <td>Married</td>\n      <td>Passed Grade 8</td>\n      <td>Natural Death</td>\n      <td>...</td>\n      <td>0</td>\n      <td>0</td>\n      <td>None</td>\n      <td>Heart Diseases</td>\n      <td>None</td>\n      <td>0</td>\n      <td>1</td>\n      <td>0</td>\n      <td>0</td>\n      <td>0</td>\n    </tr>\n    <tr>\n      <th>12</th>\n      <td>2017</td>\n      <td>1</td>\n      <td>44</td>\n      <td>M</td>\n      <td>Buddhist</td>\n      <td>Sinhalese</td>\n      <td>Agricultural Animal Husbandry Fisherman &amp; rela...</td>\n      <td>Married</td>\n      <td>Passed G.C.E (O/L)</td>\n      <td>Harrasment by the husband &amp; family disputes</td>\n      <td>...</td>\n      <td>1</td>\n      <td>0</td>\n      <td>None</td>\n      <td>Cancer</td>\n      <td>Frequent</td>\n      <td>0</td>\n      <td>1</td>\n      <td>1</td>\n      <td>1</td>\n      <td>0</td>\n    </tr>\n    <tr>\n      <th>13</th>\n      <td>2016</td>\n      <td>1</td>\n      <td>62</td>\n      <td>M</td>\n      <td>Buddhist</td>\n      <td>Sinhalese</td>\n      <td>Service workers (Cooks/Tailors/Barbers/ etc)</td>\n      <td>Married</td>\n      <td>From Grade 1 to 7</td>\n      <td>Mental Disorders</td>\n      <td>...</td>\n      <td>1</td>\n      <td>0</td>\n      <td>PTSD</td>\n      <td>Other</td>\n      <td>Frequent</td>\n      <td>1</td>\n      <td>1</td>\n      <td>1</td>\n      <td>0</td>\n      <td>1</td>\n    </tr>\n    <tr>\n      <th>14</th>\n      <td>2018</td>\n      <td>0</td>\n      <td>21</td>\n      <td>M</td>\n      <td>Hindu</td>\n      <td>Tamil</td>\n      <td>Sales worker</td>\n      <td>Unmarried</td>\n      <td>Passed G.C.E (O/L)</td>\n      <td>Stroke/Chronic diseases &amp; Physical disabilities</td>\n      <td>...</td>\n      <td>0</td>\n      <td>0</td>\n      <td>None</td>\n      <td>Chronic pain</td>\n      <td>None</td>\n      <td>0</td>\n      <td>1</td>\n      <td>0</td>\n      <td>1</td>\n      <td>0</td>\n    </tr>\n    <tr>\n      <th>15</th>\n      <td>2015</td>\n      <td>1</td>\n      <td>70</td>\n      <td>M</td>\n      <td>Buddhist</td>\n      <td>Sinhalese</td>\n      <td>Unemployed persons</td>\n      <td>Married</td>\n      <td>School not attended</td>\n      <td>Mental Disorders</td>\n      <td>...</td>\n      <td>1</td>\n      <td>0</td>\n      <td>Depression</td>\n      <td>Other</td>\n      <td>Frequent</td>\n      <td>1</td>\n      <td>1</td>\n      <td>1</td>\n      <td>1</td>\n      <td>0</td>\n    </tr>\n    <tr>\n      <th>16</th>\n      <td>2018</td>\n      <td>0</td>\n      <td>68</td>\n      <td>M</td>\n      <td>Hindu</td>\n      <td>Tamil</td>\n      <td>Sales worker</td>\n      <td>Married</td>\n      <td>Passed Grade 8</td>\n      <td>Addiction to narcotic drugs</td>\n      <td>...</td>\n      <td>0</td>\n      <td>0</td>\n      <td>None</td>\n      <td>Other</td>\n      <td>Frequent</td>\n      <td>0</td>\n      <td>0</td>\n      <td>0</td>\n      <td>0</td>\n      <td>0</td>\n    </tr>\n    <tr>\n      <th>17</th>\n      <td>2017</td>\n      <td>1</td>\n      <td>43</td>\n      <td>F</td>\n      <td>Buddhist</td>\n      <td>Sinhalese</td>\n      <td>Armed Services</td>\n      <td>Married</td>\n      <td>Passed G.C.E (O/L)</td>\n      <td>Harrasment by the husband &amp; family disputes</td>\n      <td>...</td>\n      <td>1</td>\n      <td>1</td>\n      <td>Depression</td>\n      <td>Cancer</td>\n      <td>None</td>\n      <td>0</td>\n      <td>1</td>\n      <td>1</td>\n      <td>1</td>\n      <td>1</td>\n    </tr>\n    <tr>\n      <th>18</th>\n      <td>2018</td>\n      <td>0</td>\n      <td>16</td>\n      <td>M</td>\n      <td>Islam</td>\n      <td>Muslim</td>\n      <td>Student</td>\n      <td>Unmarried</td>\n      <td>Passed G.C.E (O/L)</td>\n      <td>Mental Disorders</td>\n      <td>...</td>\n      <td>0</td>\n      <td>0</td>\n      <td>Depression</td>\n      <td>Unknown</td>\n      <td>Moderate</td>\n      <td>0</td>\n      <td>0</td>\n      <td>1</td>\n      <td>0</td>\n      <td>0</td>\n    </tr>\n    <tr>\n      <th>19</th>\n      <td>2017</td>\n      <td>1</td>\n      <td>35</td>\n      <td>M</td>\n      <td>Hindu</td>\n      <td>Tamil</td>\n      <td>Agricultural Animal Husbandry Fisherman &amp; rela...</td>\n      <td>Married</td>\n      <td>Passed Grade 8</td>\n      <td>Other Reasons</td>\n      <td>...</td>\n      <td>1</td>\n      <td>0</td>\n      <td>Depression</td>\n      <td>Other</td>\n      <td>Moderate</td>\n      <td>0</td>\n      <td>1</td>\n      <td>1</td>\n      <td>1</td>\n      <td>0</td>\n    </tr>\n  </tbody>\n</table>\n<p>20 rows × 22 columns</p>\n</div>"
     },
     "metadata": {},
     "output_type": "execute_result",
     "execution_count": 113
    }
   ],
   "source": [
    "from sklearn.externals import joblib\n",
    "url = \"Test-Data-6.csv\"\n",
    "df = pd.read_csv(url)\n",
    "include = [ 'Age', 'Gender', 'Religon', 'Race', 'Nature Of Occupation' ,\n",
    "           'Civil Status' ,'Education Level' ,'Reason' ,'Lifetime Psychiatric Hospitalizations' ,\n",
    "           'Past Suicide Attempts' ,'Any suicidal thoughts mentioned' ,'Self-Injurious Behaviour' ,\n",
    "           'Psychiatric Disorders' ,'Past Illnesses' ,'Alcohol/ drug Consumption','Anger',\n",
    "           'Sleep Problem', 'Social Iscolation', 'Sad/ Weary' , 'Humilated', 'Not Suicide(0)/Suicide(1)']  # Except the year, all the features are taken \n",
    "df.head(20)"
   ],
   "metadata": {
    "collapsed": false,
    "pycharm": {
     "name": "#%%\n",
     "is_executing": false
    }
   }
  },
  {
   "cell_type": "markdown",
   "source": [
    "#### Replacing unwanted labels with a unique label"
   ],
   "metadata": {
    "collapsed": false,
    "pycharm": {
     "name": "#%% md\n"
    }
   }
  },
  {
   "cell_type": "code",
   "execution_count": 114,
   "outputs": [
    {
     "data": {
      "text/plain": "array(['Islam', 'Christian', 'Other', 'Buddhist', 'Hindu'], dtype=object)"
     },
     "metadata": {},
     "output_type": "execute_result",
     "execution_count": 114
    }
   ],
   "source": [
    "df.replace(['Asthma', \"Alzheimer's disease\", 'Diabetes',\n",
    "              'Cirrhosis', 'Ischemic heart disease', \n",
    "              'Road Accident','Chronic kidney disease'],\n",
    "             ['Natural Death','Natural Death','Natural Death','Natural Death',\n",
    "              'Natural Death','Natural Death','Natural Death'], inplace = True)\n",
    "df.replace(['Stroke/Chronic diseases & Physical disabilities'],\n",
    "             ['Chronic diseases & Physical disabilities'], inplace = True)\n",
    "df2 = df[include]\n",
    "df2.Religon.unique()\n",
    "# df2.Religon.unique()\n",
    "# df2.Race.unique()\n",
    "# df2['Nature Of Occupation'].unique()"
   ],
   "metadata": {
    "collapsed": false,
    "pycharm": {
     "name": "#%%\n",
     "is_executing": false
    }
   }
  },
  {
   "cell_type": "markdown",
   "source": [
    "#### Label Encoder"
   ],
   "metadata": {
    "collapsed": false,
    "pycharm": {
     "name": "#%% md\n"
    }
   }
  },
  {
   "cell_type": "code",
   "execution_count": 115,
   "outputs": [
    {
     "name": "stdout",
     "text": [
      "    Age  Gender  Religon  Race  Nature Of Occupation  Civil Status  \\\n",
      "0    30       0        3     1                     0             2   \n",
      "1    91       0        3     1                     8             1   \n",
      "2    85       1        3     1                     9             1   \n",
      "3    87       1        1     3                    12             1   \n",
      "4    59       1        3     1                     4             2   \n",
      "5    31       1        4     3                     1             2   \n",
      "6    75       1        1     0                     2             1   \n",
      "7    47       1        0     3                    12             1   \n",
      "8    58       1        1     0                     2             2   \n",
      "9    36       1        2     4                     2             1   \n",
      "10   87       1        0     3                    12             1   \n",
      "11   73       1        1     0                     3             1   \n",
      "12   44       1        0     3                     1             1   \n",
      "13   62       1        0     3                    10             1   \n",
      "14   21       1        2     4                     8             2   \n",
      "15   70       1        0     3                    12             1   \n",
      "16   68       1        2     4                     8             1   \n",
      "17   43       0        0     3                     2             1   \n",
      "18   16       1        3     1                    11             2   \n",
      "19   35       1        2     4                     1             1   \n",
      "\n",
      "    Education Level  Reason  Lifetime Psychiatric Hospitalizations  \\\n",
      "0                 0      10                                      0   \n",
      "1                 6      10                                      0   \n",
      "2                 6       2                                      0   \n",
      "3                 5       6                                      1   \n",
      "4                 1      10                                      0   \n",
      "5                 3       6                                      1   \n",
      "6                 2      10                                      0   \n",
      "7                 5       6                                      1   \n",
      "8                 6      10                                      0   \n",
      "9                 6      10                                      0   \n",
      "10                4       2                                      1   \n",
      "11                4      10                                      0   \n",
      "12                3       6                                      1   \n",
      "13                0       9                                      1   \n",
      "14                3       2                                      0   \n",
      "15                5       9                                      1   \n",
      "16                4       0                                      0   \n",
      "17                3       6                                      1   \n",
      "18                3       9                                      0   \n",
      "19                4      11                                      1   \n",
      "\n",
      "    Past Suicide Attempts  ...  Self-Injurious Behaviour  \\\n",
      "0                       0  ...                         0   \n",
      "1                       0  ...                         0   \n",
      "2                       0  ...                         0   \n",
      "3                       1  ...                         0   \n",
      "4                       1  ...                         0   \n",
      "5                       1  ...                         1   \n",
      "6                       0  ...                         0   \n",
      "7                       1  ...                         1   \n",
      "8                       0  ...                         0   \n",
      "9                       0  ...                         0   \n",
      "10                      1  ...                         0   \n",
      "11                      0  ...                         0   \n",
      "12                      1  ...                         0   \n",
      "13                      1  ...                         0   \n",
      "14                      0  ...                         0   \n",
      "15                      1  ...                         0   \n",
      "16                      0  ...                         0   \n",
      "17                      1  ...                         1   \n",
      "18                      0  ...                         0   \n",
      "19                      1  ...                         0   \n",
      "\n",
      "    Psychiatric Disorders  Past Illnesses  Alcohol/ drug Consumption  Anger  \\\n",
      "0                       3               6                          2      0   \n",
      "1                       3               7                          2      0   \n",
      "2                       3               6                          2      0   \n",
      "3                       3               2                          0      1   \n",
      "4                       3               0                          2      0   \n",
      "5                       3               7                          0      1   \n",
      "6                       3               8                          2      0   \n",
      "7                       3               7                          1      0   \n",
      "8                       3               8                          2      0   \n",
      "9                       3               8                          2      0   \n",
      "10                      4               3                          0      0   \n",
      "11                      3               4                          2      0   \n",
      "12                      3               1                          0      0   \n",
      "13                      5               7                          0      1   \n",
      "14                      3               2                          2      0   \n",
      "15                      2               7                          0      1   \n",
      "16                      3               7                          0      0   \n",
      "17                      2               1                          2      0   \n",
      "18                      2               8                          1      0   \n",
      "19                      2               7                          1      0   \n",
      "\n",
      "    Sleep Problem  Social Iscolation  Sad/ Weary  Humilated  \\\n",
      "0               0                  0           0          0   \n",
      "1               1                  0           0          0   \n",
      "2               1                  0           0          0   \n",
      "3               1                  1           1          1   \n",
      "4               1                  0           1          1   \n",
      "5               1                  1           1          1   \n",
      "6               0                  1           0          0   \n",
      "7               0                  1           1          0   \n",
      "8               0                  0           0          0   \n",
      "9               1                  0           0          0   \n",
      "10              1                  1           1          0   \n",
      "11              1                  0           0          0   \n",
      "12              1                  1           1          0   \n",
      "13              1                  1           0          1   \n",
      "14              1                  0           1          0   \n",
      "15              1                  1           1          0   \n",
      "16              0                  0           0          0   \n",
      "17              1                  1           1          1   \n",
      "18              0                  1           0          0   \n",
      "19              1                  1           1          0   \n",
      "\n",
      "    Not Suicide(0)/Suicide(1)  \n",
      "0                           0  \n",
      "1                           0  \n",
      "2                           0  \n",
      "3                           1  \n",
      "4                           0  \n",
      "5                           1  \n",
      "6                           0  \n",
      "7                           1  \n",
      "8                           0  \n",
      "9                           0  \n",
      "10                          1  \n",
      "11                          0  \n",
      "12                          1  \n",
      "13                          1  \n",
      "14                          0  \n",
      "15                          1  \n",
      "16                          0  \n",
      "17                          1  \n",
      "18                          0  \n",
      "19                          1  \n",
      "\n",
      "[20 rows x 21 columns]\n",
      "Gender {'F': 0, 'M': 1}\n",
      "Religon {'Buddhist': 0, 'Christian': 1, 'Hindu': 2, 'Islam': 3, 'Other': 4}\n",
      "Race {'Burger': 0, 'Muslim': 1, 'Other': 2, 'Sinhalese ': 3, 'Tamil': 4}\n",
      "Nature Of Occupation {'Administrative Executive Managerial & related workers': 0, 'Agricultural Animal Husbandry Fisherman & related Forestry workers': 1, 'Armed Services': 2, 'Clerical & related workers (Stenographers/ Typists etc)': 3, 'Pensioners': 4, 'Police': 5, 'Production process workers Craftsman & related workers transport equipment operators & labourers': 6, 'Professional Technical & related workers (Doctors/Engineers/Accountants/ Teachers/Authors/ Photographers)': 7, 'Sales worker': 8, 'Security Personnel': 9, 'Service workers (Cooks/Tailors/Barbers/ etc)': 10, 'Student': 11, 'Unemployed persons': 12, 'Workers not classfied by occupation ': 13}\n",
      "Civil Status {'Divourced': 0, 'Married': 1, 'Unmarried': 2, 'Widow': 3}\n",
      "Education Level {'From Grade 1 to 7': 0, 'Other': 1, 'Passed G.C.E (A/L)': 2, 'Passed G.C.E (O/L)': 3, 'Passed Grade 8': 4, 'School not attended': 5, 'University Degree or above': 6}\n",
      "Reason {'Addiction to narcotic drugs': 0, 'Aggrieved over the death parents/relations': 1, 'Chronic diseases & Physical disabilities': 2, 'Economic problems (Poverty indebtedness)': 3, 'Employment problems': 4, 'Failure at the examination': 5, 'Harrasment by the husband & family disputes': 6, 'Ill-treatment by the children': 7, 'Loss of property': 8, 'Mental Disorders': 9, 'Natural Death': 10, 'Other Reasons': 11, 'Problems caused with the elders': 12, 'Sexual incapacity': 13, 'Using disappointment frustration caused through love affairs': 14}\n",
      "Psychiatric Disorders {'BPD': 0, 'Bipolar Disorder': 1, 'Depression': 2, 'None': 3, 'Other': 4, 'PTSD': 5, 'Schizophrenia': 6}\n",
      "Past Illnesses {'COPD': 0, 'Cancer': 1, 'Chronic pain': 2, 'HIV/AIDS': 3, 'Heart Diseases': 4, 'Kidney Disease': 5, 'Natural Death': 6, 'Other': 7, 'Unknown': 8}\n",
      "Alcohol/ drug Consumption {'Frequent': 0, 'Moderate': 1, 'None': 2}\n"
     ],
     "output_type": "stream"
    },
    {
     "name": "stderr",
     "text": [
      "c:\\users\\dinis\\pycharmprojects\\suicide-risk-predictor\\venv\\lib\\site-packages\\ipykernel_launcher.py:7: SettingWithCopyWarning: \n",
      "A value is trying to be set on a copy of a slice from a DataFrame.\n",
      "Try using .loc[row_indexer,col_indexer] = value instead\n",
      "\n",
      "See the caveats in the documentation: https://pandas.pydata.org/pandas-docs/stable/user_guide/indexing.html#returning-a-view-versus-a-copy\n",
      "  import sys\n"
     ],
     "output_type": "stream"
    }
   ],
   "source": [
    "category_col =['Gender', 'Religon', 'Race', 'Nature Of Occupation' ,\n",
    "           'Civil Status' ,'Education Level' ,'Reason' ,\n",
    "           'Psychiatric Disorders' ,'Past Illnesses' ,'Alcohol/ drug Consumption'] \n",
    "labelEncoder = preprocessing.LabelEncoder()\n",
    "mapping_dict={}\n",
    "for col in category_col:\n",
    "    df2[col] = labelEncoder.fit_transform(df2[col])\n",
    "    le_name_mapping = dict(zip(labelEncoder.classes_, labelEncoder.transform(labelEncoder.classes_)))\n",
    "    mapping_dict[col]=le_name_mapping\n",
    "print(df2.head(20))\n",
    "for x, y in mapping_dict.items():\n",
    "  print(x, y)"
   ],
   "metadata": {
    "collapsed": false,
    "pycharm": {
     "name": "#%%\n",
     "is_executing": false
    }
   }
  },
  {
   "cell_type": "code",
   "execution_count": 116,
   "outputs": [],
   "source": [
    "feature_cols = ['Age', 'Gender', 'Religon', 'Race', 'Nature Of Occupation' ,\n",
    "           'Civil Status' ,'Education Level' ,'Reason' ,'Lifetime Psychiatric Hospitalizations' ,\n",
    "           'Past Suicide Attempts' ,'Any suicidal thoughts mentioned' ,'Self-Injurious Behaviour' ,\n",
    "           'Psychiatric Disorders' ,'Past Illnesses' ,'Alcohol/ drug Consumption','Anger',\n",
    "           'Sleep Problem', 'Social Iscolation', 'Sad/ Weary' , 'Humilated']\n",
    "X = df2[feature_cols] # Features\n",
    "y = df2['Not Suicide(0)/Suicide(1)']\n",
    "\n",
    "from sklearn.model_selection import train_test_split\n",
    "X_train,X_test,y_train,y_test=train_test_split(X,y,test_size=0.3,random_state=100)"
   ],
   "metadata": {
    "collapsed": false,
    "pycharm": {
     "name": "#%%\n",
     "is_executing": false
    }
   }
  },
  {
   "cell_type": "code",
   "execution_count": 117,
   "outputs": [],
   "source": [
    "#Import Random Forest Model\n",
    "from sklearn.ensemble import RandomForestClassifier\n",
    "\n",
    "#Create a Gaussian Classifier\n",
    "rfc=RandomForestClassifier(n_estimators=100)\n",
    "\n",
    "#Train the model using the training sets y_pred=clf.predict(X_test)\n",
    "rfc.fit(X_train,y_train)\n",
    "\n",
    "y_pred=rfc.predict(X_test)"
   ],
   "metadata": {
    "collapsed": false,
    "pycharm": {
     "name": "#%%\n",
     "is_executing": false
    }
   }
  },
  {
   "cell_type": "markdown",
   "source": [
    "#### Finding accuracy"
   ],
   "metadata": {
    "collapsed": false,
    "pycharm": {
     "name": "#%% md\n"
    }
   }
  },
  {
   "cell_type": "code",
   "execution_count": 118,
   "outputs": [
    {
     "name": "stdout",
     "text": [
      "Accuracy of Random Forest Classifier: 0.9833333333333333\n"
     ],
     "output_type": "stream"
    }
   ],
   "source": [
    "#Import scikit-learn metrics module for accuracy calculation\n",
    "from sklearn import metrics\n",
    "# Model Accuracy, how often is the classifier correct?\n",
    "print(\"Accuracy of Random Forest Classifier:\",metrics.accuracy_score(y_test, y_pred))\n"
   ],
   "metadata": {
    "collapsed": false,
    "pycharm": {
     "name": "#%%\n",
     "is_executing": false
    }
   }
  },
  {
   "cell_type": "markdown",
   "source": [
    "#### Precision and Recall"
   ],
   "metadata": {
    "collapsed": false,
    "pycharm": {
     "name": "#%% md\n"
    }
   }
  },
  {
   "cell_type": "code",
   "execution_count": 119,
   "outputs": [
    {
     "name": "stdout",
     "text": [
      "Precision of Random Forest Classifier: 0.9743589743589743\n",
      "Recall of Random Forest Classifier: 0.9934640522875817\n"
     ],
     "output_type": "stream"
    }
   ],
   "source": [
    "print(\"Precision of Random Forest Classifier:\",metrics.precision_score(y_test, y_pred))\n",
    "print(\"Recall of Random Forest Classifier:\",metrics.recall_score(y_test, y_pred))\n"
   ],
   "metadata": {
    "collapsed": false,
    "pycharm": {
     "name": "#%%\n",
     "is_executing": false
    }
   }
  },
  {
   "cell_type": "code",
   "execution_count": 120,
   "outputs": [],
   "source": [
    "import pickle\n",
    "\n",
    "#creating and training a model\n",
    "#serializing our model to a file called model.pkl\n",
    "pickle.dump(rfc, open(\"model.pkl\",\"wb\"))\n",
    "\n",
    "# joblib.dump(rfc, 'model.pkl')\n",
    "# print(\"model dumped!\")\n",
    "# # \n",
    "# # # Loading the model back into the workspace (Deserialization)\n",
    "# # \n",
    "# rfc = joblib.load('model.pkl')\n",
    "# # Use the loaded model to make predictions \n",
    "# rfc.predict(X_test) \n",
    "# Saving the data columns from training\n",
    "# model_columns = list(X.categoricals)"
   ],
   "metadata": {
    "collapsed": false,
    "pycharm": {
     "name": "#%%\n",
     "is_executing": false
    }
   }
  },
  {
   "cell_type": "code",
   "execution_count": 121,
   "outputs": [
    {
     "data": {
      "text/plain": "<Figure size 432x288 with 2 Axes>",
      "image/png": "[encoded data removed]"
     },
     "metadata": {
      "needs_background": "light"
     },
     "output_type": "display_data"
    }
   ],
   "source": [
    "corr = df2.corr()\n",
    "ax = sns.heatmap(\n",
    "    corr, \n",
    "    vmin=-1, vmax=1, center=0,\n",
    "    cmap=sns.diverging_palette(20, 220, n=200),\n",
    "    square=True\n",
    ")\n"
   ],
   "metadata": {
    "collapsed": false,
    "pycharm": {
     "name": "#%%\n",
     "is_executing": false
    }
   }
  },
  {
   "cell_type": "code",
   "execution_count": 122,
   "outputs": [
    {
     "name": "stdout",
     "text": [
      "[0]\n"
     ],
     "output_type": "stream"
    }
   ],
   "source": [
    "print(rfc.predict([[87,1,1,1,12,1,5,6,0,0,0,0,3,2,0,1,1,1,0,0]]))\n"
   ],
   "metadata": {
    "collapsed": false,
    "pycharm": {
     "name": "#%%\n",
     "is_executing": false
    }
   }
  },
  {
   "cell_type": "code",
   "execution_count": 123,
   "outputs": [
    {
     "name": "stdout",
     "text": [
      "[0]\n"
     ],
     "output_type": "stream"
    }
   ],
   "source": [
    "print(rfc.predict([[87,1,1,1,12,1,5,6,0,0,0,0,3,2,0,1,1,1,0,0]]))\n"
   ],
   "metadata": {
    "collapsed": false,
    "pycharm": {
     "name": "#%%\n",
     "is_executing": false
    }
   }
  },
  {
   "cell_type": "code",
   "execution_count": 124,
   "outputs": [
    {
     "name": "stdout",
     "text": [
      "[0]\n"
     ],
     "output_type": "stream"
    }
   ],
   "source": [
    "print(rfc.predict([[87,1,1,1,12,1,5,6,0,0,0,0,3,2,0,1,1,1,0,0]]))\n"
   ],
   "metadata": {
    "collapsed": false,
    "pycharm": {
     "name": "#%%\n",
     "is_executing": false
    }
   }
  },
  {
   "cell_type": "code",
   "execution_count": 125,
   "outputs": [
    {
     "name": "stdout",
     "text": [
      "[0]\n"
     ],
     "output_type": "stream"
    }
   ],
   "source": [
    "print(rfc.predict([[31,0,4,11,2,6,0,7,0,0,0,0,3,9,2,0,0,0,0,0]]))\n",
    "\n"
   ],
   "metadata": {
    "collapsed": false,
    "pycharm": {
     "name": "#%%\n",
     "is_executing": false
    }
   }
  },
  {
   "cell_type": "code",
   "execution_count": 126,
   "outputs": [
    {
     "name": "stdout",
     "text": [
      "[1]\n"
     ],
     "output_type": "stream"
    }
   ],
   "source": [
    "print(rfc.predict([[31,0,4,11,2,6,0,7,1,0,0,0,3,9,2,0,0,0,0,0]]))\n",
    "\n",
    "\n"
   ],
   "metadata": {
    "collapsed": false,
    "pycharm": {
     "name": "#%%\n",
     "is_executing": false
    }
   }
  },
  {
   "cell_type": "code",
   "execution_count": 127,
   "outputs": [
    {
     "name": "stdout",
     "text": [
      "[1]\n"
     ],
     "output_type": "stream"
    }
   ],
   "source": [
    "\n",
    "print(rfc.predict([[31,0,4,11,2,6,0,7,1,1,0,0,3,9,2,0,0,0,0,0]]))\n",
    "\n"
   ],
   "metadata": {
    "collapsed": false,
    "pycharm": {
     "name": "#%%\n",
     "is_executing": false
    }
   }
  },
  {
   "cell_type": "code",
   "execution_count": 128,
   "outputs": [
    {
     "name": "stdout",
     "text": [
      "[1]\n"
     ],
     "output_type": "stream"
    }
   ],
   "source": [
    "print(rfc.predict([[31,0,4,11,2,6,0,7,1,1,1,0,3,9,2,0,0,0,0,0]]))\n",
    "\n"
   ],
   "metadata": {
    "collapsed": false,
    "pycharm": {
     "name": "#%%\n",
     "is_executing": false
    }
   }
  },
  {
   "cell_type": "code",
   "execution_count": 129,
   "outputs": [
    {
     "name": "stdout",
     "text": [
      "[1]\n"
     ],
     "output_type": "stream"
    }
   ],
   "source": [
    "print(rfc.predict([[31,0,4,11,2,6,0,7,1,1,1,1,3,9,2,0,0,0,0,0]]))\n",
    "\n"
   ],
   "metadata": {
    "collapsed": false,
    "pycharm": {
     "name": "#%%\n",
     "is_executing": false
    }
   }
  },
  {
   "cell_type": "code",
   "execution_count": 130,
   "outputs": [
    {
     "name": "stdout",
     "text": [
      "[0]\n"
     ],
     "output_type": "stream"
    }
   ],
   "source": [
    "print(rfc.predict([[31,0,4,11,2,6,0,7,0,0,0,0,3,9,2,1,0,0,0,0]]))\n",
    "\n"
   ],
   "metadata": {
    "collapsed": false,
    "pycharm": {
     "name": "#%%\n",
     "is_executing": false
    }
   }
  },
  {
   "cell_type": "code",
   "execution_count": 131,
   "outputs": [
    {
     "name": "stdout",
     "text": [
      "[0]\n"
     ],
     "output_type": "stream"
    }
   ],
   "source": [
    "print(rfc.predict([[31,0,4,11,2,6,0,7,0,0,0,0,3,9,2,1,1,0,0,0]]))\n",
    "\n"
   ],
   "metadata": {
    "collapsed": false,
    "pycharm": {
     "name": "#%%\n",
     "is_executing": false
    }
   }
  },
  {
   "cell_type": "code",
   "execution_count": 132,
   "outputs": [
    {
     "name": "stdout",
     "text": [
      "[0]\n"
     ],
     "output_type": "stream"
    }
   ],
   "source": [
    "print(rfc.predict([[31,1,4,11,2,6,0,7,0,0,0,0,3,9,2,1,1,1,0,0]]))\n",
    "\n"
   ],
   "metadata": {
    "collapsed": false,
    "pycharm": {
     "name": "#%%\n",
     "is_executing": false
    }
   }
  },
  {
   "cell_type": "code",
   "execution_count": 133,
   "outputs": [
    {
     "name": "stdout",
     "text": [
      "[0]\n"
     ],
     "output_type": "stream"
    }
   ],
   "source": [
    "print(rfc.predict([[31,0,4,11,2,6,0,7,0,0,0,0,3,9,2,1,1,1,1,0]]))\n",
    "\n"
   ],
   "metadata": {
    "collapsed": false,
    "pycharm": {
     "name": "#%%\n",
     "is_executing": false
    }
   }
  },
  {
   "cell_type": "code",
   "execution_count": 134,
   "outputs": [
    {
     "name": "stdout",
     "text": [
      "[0]\n"
     ],
     "output_type": "stream"
    }
   ],
   "source": [
    "print(rfc.predict([[31,0,4,11,2,6,0,7,0,0,0,0,3,9,2,1,1,1,1,1]]))\n",
    "\n"
   ],
   "metadata": {
    "collapsed": false,
    "pycharm": {
     "name": "#%%\n",
     "is_executing": false
    }
   }
  },
  {
   "cell_type": "code",
   "execution_count": 135,
   "outputs": [
    {
     "name": "stdout",
     "text": [
      "[0]\n"
     ],
     "output_type": "stream"
    }
   ],
   "source": [
    "print(rfc.predict([[20,0,4,11,2,6,0,7,0,0,0,0,3,9,2,0,0,0,0,0]]))\n",
    "\n"
   ],
   "metadata": {
    "collapsed": false,
    "pycharm": {
     "name": "#%%\n",
     "is_executing": false
    }
   }
  },
  {
   "cell_type": "code",
   "execution_count": 136,
   "outputs": [
    {
     "name": "stdout",
     "text": [
      "[1]\n"
     ],
     "output_type": "stream"
    }
   ],
   "source": [
    "print(rfc.predict([[21,1,4,11,2,6,0,7,1,1,0,1,3,9,2,0,0,0,0,0]]))\n",
    "\n"
   ],
   "metadata": {
    "collapsed": false,
    "pycharm": {
     "name": "#%%\n",
     "is_executing": false
    }
   }
  },
  {
   "cell_type": "code",
   "execution_count": 137,
   "outputs": [
    {
     "name": "stdout",
     "text": [
      "[0]\n"
     ],
     "output_type": "stream"
    }
   ],
   "source": [
    "print(rfc.predict([[21,0,4,4,2,6,0,7,0,1,1,0,3,9,2,0,0,0,0,0]]))\n",
    "\n",
    "\n"
   ],
   "metadata": {
    "collapsed": false,
    "pycharm": {
     "name": "#%%\n",
     "is_executing": false
    }
   }
  },
  {
   "cell_type": "code",
   "execution_count": 138,
   "outputs": [
    {
     "name": "stdout",
     "text": [
      "[0]\n"
     ],
     "output_type": "stream"
    }
   ],
   "source": [
    "print(rfc.predict([[20,0,4,11,2,6,0,7,0,0,0,0,3,9,2,0,0,0,0,0]]))\n",
    "\n",
    "\n"
   ],
   "metadata": {
    "collapsed": false,
    "pycharm": {
     "name": "#%%\n",
     "is_executing": false
    }
   }
  },
  {
   "cell_type": "code",
   "execution_count": 139,
   "outputs": [
    {
     "name": "stdout",
     "text": [
      "[1]\n"
     ],
     "output_type": "stream"
    }
   ],
   "source": [
    "print(rfc.predict([[21,0,4,11,2,6,0,7,1,1,1,0,3,9,2,0,0,0,0,0]]))\n",
    "\n"
   ],
   "metadata": {
    "collapsed": false,
    "pycharm": {
     "name": "#%%\n",
     "is_executing": false
    }
   }
  },
  {
   "cell_type": "code",
   "execution_count": 140,
   "outputs": [
    {
     "name": "stdout",
     "text": [
      "[0]\n"
     ],
     "output_type": "stream"
    }
   ],
   "source": [
    "print(rfc.predict([[21,0,8,11,4,6,0,7,0,0,0,0,3,9,2,0,0,0,0,0]]))\n",
    "\n"
   ],
   "metadata": {
    "collapsed": false,
    "pycharm": {
     "name": "#%%\n",
     "is_executing": false
    }
   }
  },
  {
   "cell_type": "code",
   "execution_count": 140,
   "outputs": [],
   "source": [
    "\n"
   ],
   "metadata": {
    "collapsed": false,
    "pycharm": {
     "name": "#%%\n",
     "is_executing": false
    }
   }
  },
  {
   "cell_type": "code",
   "execution_count": 140,
   "outputs": [],
   "source": [
    "\n"
   ],
   "metadata": {
    "collapsed": false,
    "pycharm": {
     "name": "#%%\n",
     "is_executing": false
    }
   }
  },
  {
   "cell_type": "code",
   "execution_count": 140,
   "outputs": [],
   "source": [
    "\n"
   ],
   "metadata": {
    "collapsed": false,
    "pycharm": {
     "name": "#%%\n",
     "is_executing": false
    }
   }
  },
  {
   "cell_type": "code",
   "execution_count": 140,
   "outputs": [],
   "source": [
    "\n"
   ],
   "metadata": {
    "collapsed": false,
    "pycharm": {
     "name": "#%%\n",
     "is_executing": false
    }
   }
  },
  {
   "cell_type": "code",
   "execution_count": 140,
   "outputs": [],
   "source": [
    "\n"
   ],
   "metadata": {
    "collapsed": false,
    "pycharm": {
     "name": "#%%\n",
     "is_executing": false
    }
   }
  },
  {
   "cell_type": "code",
   "execution_count": 140,
   "outputs": [],
   "source": [
    "\n"
   ],
   "metadata": {
    "collapsed": false,
    "pycharm": {
     "name": "#%%\n",
     "is_executing": false
    }
   }
  },
  {
   "cell_type": "code",
   "execution_count": 140,
   "outputs": [],
   "source": [
    "\n"
   ],
   "metadata": {
    "collapsed": false,
    "pycharm": {
     "name": "#%%\n",
     "is_executing": false
    }
   }
  },
  {
   "cell_type": "code",
   "execution_count": 140,
   "outputs": [],
   "source": [
    "\n"
   ],
   "metadata": {
    "collapsed": false,
    "pycharm": {
     "name": "#%%\n",
     "is_executing": false
    }
   }
  },
  {
   "cell_type": "code",
   "execution_count": 140,
   "outputs": [],
   "source": [
    "\n"
   ],
   "metadata": {
    "collapsed": false,
    "pycharm": {
     "name": "#%%\n",
     "is_executing": false
    }
   }
  },
  {
   "cell_type": "code",
   "execution_count": 140,
   "outputs": [],
   "source": [
    "\n"
   ],
   "metadata": {
    "collapsed": false,
    "pycharm": {
     "name": "#%%\n",
     "is_executing": false
    }
   }
  },
  {
   "cell_type": "code",
   "execution_count": 140,
   "outputs": [],
   "source": [
    "\n"
   ],
   "metadata": {
    "collapsed": false,
    "pycharm": {
     "name": "#%%\n",
     "is_executing": false
    }
   }
  },
  {
   "cell_type": "code",
   "execution_count": 140,
   "outputs": [],
   "source": [
    "\n"
   ],
   "metadata": {
    "collapsed": false,
    "pycharm": {
     "name": "#%%\n",
     "is_executing": false
    }
   }
  },
  {
   "cell_type": "code",
   "execution_count": 140,
   "outputs": [],
   "source": [
    "\n"
   ],
   "metadata": {
    "collapsed": false,
    "pycharm": {
     "name": "#%%\n",
     "is_executing": false
    }
   }
  },
  {
   "cell_type": "code",
   "execution_count": 140,
   "outputs": [],
   "source": [
    "\n"
   ],
   "metadata": {
    "collapsed": false,
    "pycharm": {
     "name": "#%%\n",
     "is_executing": false
    }
   }
  },
  {
   "cell_type": "code",
   "execution_count": 140,
   "outputs": [],
   "source": [
    "\n"
   ],
   "metadata": {
    "collapsed": false,
    "pycharm": {
     "name": "#%%\n",
     "is_executing": false
    }
   }
  },
  {
   "cell_type": "code",
   "execution_count": 140,
   "outputs": [],
   "source": [
    "\n"
   ],
   "metadata": {
    "collapsed": false,
    "pycharm": {
     "name": "#%%\n",
     "is_executing": false
    }
   }
  },
  {
   "cell_type": "code",
   "execution_count": 140,
   "outputs": [],
   "source": [
    "\n"
   ],
   "metadata": {
    "collapsed": false,
    "pycharm": {
     "name": "#%%\n",
     "is_executing": false
    }
   }
  },
  {
   "cell_type": "code",
   "execution_count": 140,
   "outputs": [],
   "source": [
    "\n"
   ],
   "metadata": {
    "collapsed": false,
    "pycharm": {
     "name": "#%%\n",
     "is_executing": false
    }
   }
  },
  {
   "cell_type": "code",
   "execution_count": 140,
   "outputs": [],
   "source": [
    "\n"
   ],
   "metadata": {
    "collapsed": false,
    "pycharm": {
     "name": "#%%\n",
     "is_executing": false
    }
   }
  },
  {
   "cell_type": "code",
   "execution_count": 140,
   "outputs": [],
   "source": [
    "\n"
   ],
   "metadata": {
    "collapsed": false,
    "pycharm": {
     "name": "#%%\n",
     "is_executing": false
    }
   }
  },
  {
   "cell_type": "code",
   "execution_count": 140,
   "outputs": [],
   "source": [
    "\n"
   ],
   "metadata": {
    "collapsed": false,
    "pycharm": {
     "name": "#%%\n",
     "is_executing": false
    }
   }
  },
  {
   "cell_type": "code",
   "execution_count": 140,
   "outputs": [],
   "source": [
    "\n"
   ],
   "metadata": {
    "collapsed": false,
    "pycharm": {
     "name": "#%%\n",
     "is_executing": false
    }
   }
  },
  {
   "cell_type": "code",
   "execution_count": 140,
   "outputs": [],
   "source": [
    "\n"
   ],
   "metadata": {
    "collapsed": false,
    "pycharm": {
     "name": "#%%\n",
     "is_executing": false
    }
   }
  },
  {
   "cell_type": "code",
   "execution_count": 140,
   "outputs": [],
   "source": [
    "\n"
   ],
   "metadata": {
    "collapsed": false,
    "pycharm": {
     "name": "#%%\n",
     "is_executing": false
    }
   }
  },
  {
   "cell_type": "code",
   "execution_count": 140,
   "outputs": [],
   "source": [
    "\n"
   ],
   "metadata": {
    "collapsed": false,
    "pycharm": {
     "name": "#%%\n",
     "is_executing": false
    }
   }
  }
 ],
 "metadata": {
  "kernelspec": {
   "display_name": "Python 3",
   "language": "python",
   "name": "python3"
  },
  "language_info": {
   "codemirror_mode": {
    "name": "ipython",
    "version": 2
   },
   "file_extension": ".py",
   "mimetype": "text/x-python",
   "name": "python",
   "nbconvert_exporter": "python",
   "pygments_lexer": "ipython2",
   "version": "2.7.6"
  },
  "pycharm": {
   "stem_cell": {
    "cell_type": "raw",
    "source": [],
    "metadata": {
     "collapsed": false
    }
   }
  }
 },
 "nbformat": 4,
 "nbformat_minor": 0
}