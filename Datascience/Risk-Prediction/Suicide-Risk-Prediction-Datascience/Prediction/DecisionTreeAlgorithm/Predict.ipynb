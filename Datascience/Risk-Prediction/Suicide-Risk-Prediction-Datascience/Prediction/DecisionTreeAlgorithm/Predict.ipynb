{
 "cells": [
  {
   "cell_type": "code",
   "execution_count": 10,
   "metadata": {
    "collapsed": true,
    "pycharm": {
     "is_executing": false
    }
   },
   "outputs": [
    {
     "name": "stdout",
     "output_type": "stream",
     "text": [
      "    Age Gender    Religon        Race  \\\n",
      "0    30      F   Buddhist   Sinhalese   \n",
      "1    91      F      Islam      Muslim   \n",
      "2    85      M   Buddhist   Sinhalese   \n",
      "3    87      M   Buddhist  Sinhalese    \n",
      "4    59      F   Buddhist   Sinhalese   \n",
      "5    31      M   Buddhist  Sinhalese    \n",
      "6    75      F  Christian      Burger   \n",
      "7    47      M   Buddhist   Sinhalese   \n",
      "8    58      F  Christian      Burger   \n",
      "9    36      F      Hindu       Tamil   \n",
      "10   87      M   Buddhist  Sinhalese    \n",
      "11   73      F  Christian      Burger   \n",
      "12   44      M   Buddhist  Sinhalese    \n",
      "13   62      M   Buddhist   Sinhalese   \n",
      "14   21      F      Hindu       Tamil   \n",
      "15   70      M   Buddhist  Sinhalese    \n",
      "16   68      M      Hindu       Tamil   \n",
      "17   43      F   Buddhist  Sinhalese    \n",
      "18   16      M      Other      Burger   \n",
      "19   35      M      Hindu       Tamil   \n",
      "\n",
      "                                 Nature Of Occupation Civil Status  \\\n",
      "0   Administrative Executive Managerial & related ...    Unmarried   \n",
      "1                                        Sales worker      Married   \n",
      "2                                  Security Personnel      Married   \n",
      "3                                  Unemployed persons      Married   \n",
      "4                                          Pensioners    Unmarried   \n",
      "5   Agricultural Animal Husbandry Fisherman & rela...    Unmarried   \n",
      "6                                      Armed Services    Divourced   \n",
      "7                                  Unemployed persons      Married   \n",
      "8                                      Armed Services    Unmarried   \n",
      "9                                      Armed Services        Widow   \n",
      "10                                 Unemployed persons      Married   \n",
      "11  Clerical & related workers (Stenographers/ Typ...        Widow   \n",
      "12  Agricultural Animal Husbandry Fisherman & rela...      Married   \n",
      "13       Service workers (Cooks/Tailors/Barbers/ etc)      Married   \n",
      "14                                       Sales worker    Unmarried   \n",
      "15                                 Unemployed persons      Married   \n",
      "16                                       Sales worker      Married   \n",
      "17                                     Armed Services      Married   \n",
      "18                                            Student    Unmarried   \n",
      "19  Agricultural Animal Husbandry Fisherman & rela...      Married   \n",
      "\n",
      "               Education Level  \\\n",
      "0            From Grade 1 to 7   \n",
      "1   University Degree or above   \n",
      "2   University Degree or above   \n",
      "3          School not attended   \n",
      "4                        Other   \n",
      "5           Passed G.C.E (O/L)   \n",
      "6           Passed G.C.E (A/L)   \n",
      "7          School not attended   \n",
      "8   University Degree or above   \n",
      "9   University Degree or above   \n",
      "10              Passed Grade 8   \n",
      "11              Passed Grade 8   \n",
      "12          Passed G.C.E (O/L)   \n",
      "13           From Grade 1 to 7   \n",
      "14          Passed G.C.E (O/L)   \n",
      "15         School not attended   \n",
      "16              Passed Grade 8   \n",
      "17          Passed G.C.E (O/L)   \n",
      "18          Passed G.C.E (O/L)   \n",
      "19              Passed Grade 8   \n",
      "\n",
      "                                             Reason  \\\n",
      "0                                            Asthma   \n",
      "1                               Alzheimer's disease   \n",
      "2   Stroke/Chronic diseases & Physical disabilities   \n",
      "3       Harrasment by the husband & family disputes   \n",
      "4                               Alzheimer's disease   \n",
      "5       Harrasment by the husband & family disputes   \n",
      "6                                     Natural Death   \n",
      "7       Harrasment by the husband & family disputes   \n",
      "8                                          Diabetes   \n",
      "9                                     Natural Death   \n",
      "10         Chronic diseases & Physical disabilities   \n",
      "11                                    Natural Death   \n",
      "12      Harrasment by the husband & family disputes   \n",
      "13                                 Mental Disorders   \n",
      "14  Stroke/Chronic diseases & Physical disabilities   \n",
      "15                                 Mental Disorders   \n",
      "16                      Addiction to narcotic drugs   \n",
      "17      Harrasment by the husband & family disputes   \n",
      "18                                 Mental Disorders   \n",
      "19                                    Other Reasons   \n",
      "\n",
      "    Lifetime Psychiatric Hospitalizations  Past Suicide Attempts  ...  \\\n",
      "0                                       0                      0  ...   \n",
      "1                                       0                      0  ...   \n",
      "2                                       0                      0  ...   \n",
      "3                                       0                      0  ...   \n",
      "4                                       0                      1  ...   \n",
      "5                                       0                      0  ...   \n",
      "6                                       0                      0  ...   \n",
      "7                                       0                      0  ...   \n",
      "8                                       0                      0  ...   \n",
      "9                                       0                      0  ...   \n",
      "10                                      1                      1  ...   \n",
      "11                                      0                      0  ...   \n",
      "12                                      0                      0  ...   \n",
      "13                                      1                      1  ...   \n",
      "14                                      0                      0  ...   \n",
      "15                                      0                      1  ...   \n",
      "16                                      0                      0  ...   \n",
      "17                                      1                      0  ...   \n",
      "18                                      0                      1  ...   \n",
      "19                                      0                      0  ...   \n",
      "\n",
      "    Self-Injurious Behaviour  Psychiatric Disorders Past Illnesses   \\\n",
      "0                          0                   None          Asthma   \n",
      "1                          0                   None           Other   \n",
      "2                          0                   None        Diabetes   \n",
      "3                          0                   None    Chronic pain   \n",
      "4                          0                   None            COPD   \n",
      "5                          1                   None           Other   \n",
      "6                          0                   None         Unknown   \n",
      "7                          1                   None           Other   \n",
      "8                          0                   None         Unknown   \n",
      "9                          0                   None         Unknown   \n",
      "10                         0                  Other        HIV/AIDS   \n",
      "11                         0                   None  Heart Diseases   \n",
      "12                         0                   None          Cancer   \n",
      "13                         0                   PTSD           Other   \n",
      "14                         0                   None    Chronic pain   \n",
      "15                         0             Depression           Other   \n",
      "16                         0                   None           Other   \n",
      "17                         1             Depression          Cancer   \n",
      "18                         0             Depression         Unknown   \n",
      "19                         0             Depression           Other   \n",
      "\n",
      "   Alcohol/ drug Consumption Anger  Sleep Problem  Social Iscolation  \\\n",
      "0                       None     0              0                  0   \n",
      "1                       None     0              1                  0   \n",
      "2                       None     0              1                  0   \n",
      "3                   Frequent     1              1                  1   \n",
      "4                       None     0              1                  0   \n",
      "5                   Frequent     1              1                  1   \n",
      "6                       None     0              0                  1   \n",
      "7                   Moderate     0              0                  1   \n",
      "8                       None     0              0                  0   \n",
      "9                       None     0              1                  0   \n",
      "10                  Frequent     0              1                  1   \n",
      "11                      None     0              1                  0   \n",
      "12                  Frequent     0              1                  1   \n",
      "13                  Frequent     1              1                  1   \n",
      "14                      None     0              1                  0   \n",
      "15                  Frequent     1              1                  1   \n",
      "16                  Frequent     0              0                  0   \n",
      "17                      None     0              1                  1   \n",
      "18                  Moderate     1              1                  1   \n",
      "19                  Moderate     0              1                  1   \n",
      "\n",
      "    Sad/ Weary  Humilated  Not Suicide(0)/Suicide(1)  \n",
      "0            0          0                          0  \n",
      "1            0          0                          0  \n",
      "2            0          0                          0  \n",
      "3            1          1                          1  \n",
      "4            1          1                          0  \n",
      "5            1          1                          1  \n",
      "6            0          0                          0  \n",
      "7            1          0                          1  \n",
      "8            0          0                          0  \n",
      "9            0          0                          0  \n",
      "10           1          0                          1  \n",
      "11           0          0                          0  \n",
      "12           1          0                          1  \n",
      "13           0          1                          1  \n",
      "14           1          0                          0  \n",
      "15           1          0                          1  \n",
      "16           0          0                          0  \n",
      "17           1          1                          1  \n",
      "18           0          0                          0  \n",
      "19           1          0                          1  \n",
      "\n",
      "[20 rows x 21 columns]\n",
      "              Age  Lifetime Psychiatric Hospitalizations  \\\n",
      "count  1000.00000                            1000.000000   \n",
      "mean     54.96100                               0.188000   \n",
      "std      22.49946                               0.390908   \n",
      "min      10.00000                               0.000000   \n",
      "25%      36.00000                               0.000000   \n",
      "50%      57.00000                               0.000000   \n",
      "75%      73.00000                               0.000000   \n",
      "max      98.00000                               1.000000   \n",
      "\n",
      "       Past Suicide Attempts  Any suicidal thoughts mentioned  \\\n",
      "count            1000.000000                      1000.000000   \n",
      "mean                0.224000                         0.284000   \n",
      "std                 0.417131                         0.451162   \n",
      "min                 0.000000                         0.000000   \n",
      "25%                 0.000000                         0.000000   \n",
      "50%                 0.000000                         0.000000   \n",
      "75%                 0.000000                         1.000000   \n",
      "max                 1.000000                         1.000000   \n",
      "\n",
      "       Self-Injurious Behaviour        Anger  Sleep Problem  \\\n",
      "count               1000.000000  1000.000000    1000.000000   \n",
      "mean                   0.226000     0.315000       0.598000   \n",
      "std                    0.418448     0.464748       0.490547   \n",
      "min                    0.000000     0.000000       0.000000   \n",
      "25%                    0.000000     0.000000       0.000000   \n",
      "50%                    0.000000     0.000000       1.000000   \n",
      "75%                    0.000000     1.000000       1.000000   \n",
      "max                    1.000000     1.000000       1.000000   \n",
      "\n",
      "       Social Iscolation   Sad/ Weary    Humilated  Not Suicide(0)/Suicide(1)  \n",
      "count        1000.000000  1000.000000  1000.000000                 1000.00000  \n",
      "mean            0.340000     0.359000     0.259000                    0.50000  \n",
      "std             0.473946     0.479947     0.438305                    0.50025  \n",
      "min             0.000000     0.000000     0.000000                    0.00000  \n",
      "25%             0.000000     0.000000     0.000000                    0.00000  \n",
      "50%             0.000000     0.000000     0.000000                    0.50000  \n",
      "75%             1.000000     1.000000     1.000000                    1.00000  \n",
      "max             1.000000     1.000000     1.000000                    1.00000  \n"
     ]
    }
   ],
   "source": [
    "# Load libraries\n",
    "import pandas as pd\n",
    "import numpy as np\n",
    "from sklearn import preprocessing\n",
    "from sklearn.linear_model import LogisticRegression\n",
    "from sklearn.externals import joblib\n",
    "\n",
    "# Load dataset\n",
    "from sklearn.metrics import accuracy_score\n",
    "from sklearn.model_selection import train_test_split\n",
    "from sklearn.tree import DecisionTreeClassifier\n",
    "url = \"Dataset/FINAL Data.csv\"\n",
    "df = pd.read_csv(url)\n",
    "include = [ 'Age', 'Gender', 'Religon', 'Race', 'Nature Of Occupation' ,\n",
    "           'Civil Status' ,'Education Level' ,'Reason' ,'Lifetime Psychiatric Hospitalizations' ,\n",
    "           'Past Suicide Attempts' ,'Any suicidal thoughts mentioned' ,'Self-Injurious Behaviour' ,\n",
    "           'Psychiatric Disorders' ,'Past Illnesses ' ,'Alcohol/ drug Consumption','Anger',\n",
    "           'Sleep Problem', 'Social Iscolation', 'Sad/ Weary' , 'Humilated' , 'Not Suicide(0)/Suicide(1)']  # Except the year, all the features are taken \n",
    "df1 = df[include]\n",
    "print(df1.head(20))\n",
    "print(df1.describe())"
   ]
  },
  {
   "cell_type": "markdown",
   "metadata": {
    "pycharm": {
     "is_executing": false,
     "name": "#%% md\n"
    }
   },
   "source": [
    "## Data Preprocessing\n",
    "\n",
    "#### Replacing values for the empty spaces"
   ]
  },
  {
   "cell_type": "code",
   "execution_count": 11,
   "metadata": {
    "pycharm": {
     "is_executing": false,
     "name": "#%% \n"
    }
   },
   "outputs": [
    {
     "name": "stderr",
     "output_type": "stream",
     "text": [
      "c:\\users\\dinis\\pycharmprojects\\suicide-risk-prediction-datascience\\venv\\lib\\site-packages\\pandas\\core\\generic.py:6245: SettingWithCopyWarning: \n",
      "A value is trying to be set on a copy of a slice from a DataFrame\n",
      "\n",
      "See the caveats in the documentation: https://pandas.pydata.org/pandas-docs/stable/user_guide/indexing.html#returning-a-view-versus-a-copy\n",
      "  self._update_inplace(new_data)\n"
     ]
    }
   ],
   "source": [
    "categoricals = []\n",
    "for col, col_type in df1.dtypes.iteritems():\n",
    "     if col_type == 'O':\n",
    "          categoricals.append(col)\n",
    "     else:\n",
    "          df1[col].fillna(0, inplace=True)"
   ]
  },
  {
   "cell_type": "markdown",
   "metadata": {
    "pycharm": {
     "name": "#%% md\n"
    }
   },
   "source": [
    "#### Converting Categorical data to Numeric data\n"
   ]
  },
  {
   "cell_type": "code",
   "execution_count": 12,
   "metadata": {
    "pycharm": {
     "is_executing": false,
     "name": "#%%\n"
    }
   },
   "outputs": [
    {
     "name": "stdout",
     "output_type": "stream",
     "text": [
      "    Age  Gender  Religon  Race  Nature Of Occupation  Civil Status  \\\n",
      "0    30       0        0     3                     0             2   \n",
      "1    91       0        4     1                    12             1   \n",
      "2    85       1        0     3                    13             1   \n",
      "3    87       1        0     4                    16             1   \n",
      "4    59       0        0     3                     7             2   \n",
      "5    31       1        0     4                     1             2   \n",
      "6    75       0        1     0                     4             0   \n",
      "7    47       1        0     3                    16             1   \n",
      "8    58       0        1     0                     4             2   \n",
      "9    36       0        2     5                     4             3   \n",
      "10   87       1        0     4                    16             1   \n",
      "11   73       0        1     0                     5             3   \n",
      "12   44       1        0     4                     1             1   \n",
      "13   62       1        0     3                    14             1   \n",
      "14   21       0        2     5                    12             2   \n",
      "15   70       1        0     4                    16             1   \n",
      "16   68       1        2     5                    12             1   \n",
      "17   43       0        0     4                     4             1   \n",
      "18   16       1        5     0                    15             2   \n",
      "19   35       1        2     5                     1             1   \n",
      "\n",
      "    Education Level  Reason  Lifetime Psychiatric Hospitalizations  \\\n",
      "0                 0       3                                      0   \n",
      "1                 8       2                                      0   \n",
      "2                 8      23                                      0   \n",
      "3                 7      11                                      0   \n",
      "4                 1       2                                      0   \n",
      "5                 3      11                                      0   \n",
      "6                 2      17                                      0   \n",
      "7                 7      11                                      0   \n",
      "8                 8       7                                      0   \n",
      "9                 8      17                                      0   \n",
      "10                4       4                                      1   \n",
      "11                4      17                                      0   \n",
      "12                3      11                                      0   \n",
      "13                0      16                                      1   \n",
      "14                3      23                                      0   \n",
      "15                7      16                                      0   \n",
      "16                4       0                                      0   \n",
      "17                3      11                                      1   \n",
      "18                3      16                                      0   \n",
      "19                4      18                                      0   \n",
      "\n",
      "    Past Suicide Attempts  ...  Self-Injurious Behaviour  \\\n",
      "0                       0  ...                         0   \n",
      "1                       0  ...                         0   \n",
      "2                       0  ...                         0   \n",
      "3                       0  ...                         0   \n",
      "4                       1  ...                         0   \n",
      "5                       0  ...                         1   \n",
      "6                       0  ...                         0   \n",
      "7                       0  ...                         1   \n",
      "8                       0  ...                         0   \n",
      "9                       0  ...                         0   \n",
      "10                      1  ...                         0   \n",
      "11                      0  ...                         0   \n",
      "12                      0  ...                         0   \n",
      "13                      1  ...                         0   \n",
      "14                      0  ...                         0   \n",
      "15                      1  ...                         0   \n",
      "16                      0  ...                         0   \n",
      "17                      0  ...                         1   \n",
      "18                      1  ...                         0   \n",
      "19                      0  ...                         0   \n",
      "\n",
      "    Psychiatric Disorders  Past Illnesses   Alcohol/ drug Consumption  Anger  \\\n",
      "0                       3                0                          2      0   \n",
      "1                       3                8                          2      0   \n",
      "2                       3                4                          2      0   \n",
      "3                       3                3                          0      1   \n",
      "4                       3                1                          2      0   \n",
      "5                       3                8                          0      1   \n",
      "6                       3                9                          2      0   \n",
      "7                       3                8                          1      0   \n",
      "8                       3                9                          2      0   \n",
      "9                       3                9                          2      0   \n",
      "10                      4                5                          0      0   \n",
      "11                      3                6                          2      0   \n",
      "12                      3                2                          0      0   \n",
      "13                      6                8                          0      1   \n",
      "14                      3                3                          2      0   \n",
      "15                      2                8                          0      1   \n",
      "16                      3                8                          0      0   \n",
      "17                      2                2                          2      0   \n",
      "18                      2                9                          1      1   \n",
      "19                      2                8                          1      0   \n",
      "\n",
      "    Sleep Problem  Social Iscolation  Sad/ Weary  Humilated  \\\n",
      "0               0                  0           0          0   \n",
      "1               1                  0           0          0   \n",
      "2               1                  0           0          0   \n",
      "3               1                  1           1          1   \n",
      "4               1                  0           1          1   \n",
      "5               1                  1           1          1   \n",
      "6               0                  1           0          0   \n",
      "7               0                  1           1          0   \n",
      "8               0                  0           0          0   \n",
      "9               1                  0           0          0   \n",
      "10              1                  1           1          0   \n",
      "11              1                  0           0          0   \n",
      "12              1                  1           1          0   \n",
      "13              1                  1           0          1   \n",
      "14              1                  0           1          0   \n",
      "15              1                  1           1          0   \n",
      "16              0                  0           0          0   \n",
      "17              1                  1           1          1   \n",
      "18              1                  1           0          0   \n",
      "19              1                  1           1          0   \n",
      "\n",
      "    Not Suicide(0)/Suicide(1)  \n",
      "0                           0  \n",
      "1                           0  \n",
      "2                           0  \n",
      "3                           1  \n",
      "4                           0  \n",
      "5                           1  \n",
      "6                           0  \n",
      "7                           1  \n",
      "8                           0  \n",
      "9                           0  \n",
      "10                          1  \n",
      "11                          0  \n",
      "12                          1  \n",
      "13                          1  \n",
      "14                          0  \n",
      "15                          1  \n",
      "16                          0  \n",
      "17                          1  \n",
      "18                          0  \n",
      "19                          1  \n",
      "\n",
      "[20 rows x 21 columns]\n"
     ]
    },
    {
     "name": "stderr",
     "output_type": "stream",
     "text": [
      "c:\\users\\dinis\\pycharmprojects\\suicide-risk-prediction-datascience\\venv\\lib\\site-packages\\ipykernel_launcher.py:7: SettingWithCopyWarning: \n",
      "A value is trying to be set on a copy of a slice from a DataFrame.\n",
      "Try using .loc[row_indexer,col_indexer] = value instead\n",
      "\n",
      "See the caveats in the documentation: https://pandas.pydata.org/pandas-docs/stable/user_guide/indexing.html#returning-a-view-versus-a-copy\n",
      "  import sys\n"
     ]
    }
   ],
   "source": [
    "category_col =['Gender', 'Religon', 'Race', 'Nature Of Occupation' ,\n",
    "           'Civil Status' ,'Education Level' ,'Reason' ,\n",
    "           'Psychiatric Disorders' ,'Past Illnesses ' ,'Alcohol/ drug Consumption'] \n",
    "labelEncoder = preprocessing.LabelEncoder()\n",
    "mapping_dict={}\n",
    "for col in category_col:\n",
    "    df1[col] = labelEncoder.fit_transform(df1[col])\n",
    "    le_name_mapping = dict(zip(labelEncoder.classes_, labelEncoder.transform(labelEncoder.classes_)))\n",
    "    mapping_dict[col]=le_name_mapping\n",
    "print(df1.head(20))"
   ]
  },
  {
   "cell_type": "markdown",
   "metadata": {
    "pycharm": {
     "name": "#%% md\n"
    }
   },
   "source": [
    "#### Split into input which is taken as X, and output as y {\n"
   ]
  },
  {
   "cell_type": "code",
   "execution_count": 13,
   "metadata": {
    "pycharm": {
     "is_executing": false,
     "name": "#%%\n"
    }
   },
   "outputs": [
    {
     "name": "stdout",
     "output_type": "stream",
     "text": [
      "Desicion Tree using Gini Index\n",
      "Accuracy is  92.0\n",
      "Desicion Tree using Information Gain\n",
      "Accuracy is  93.66666666666667\n"
     ]
    }
   ],
   "source": [
    "X = df1.values[:, 2:20]\n",
    "Y = df1.values[:,20]\n",
    "\n",
    "X_train, X_test, y_train, y_test = train_test_split( X, Y, test_size = 0.3, random_state = 100)\n",
    "\n",
    "\n",
    "dt_clf_gini = DecisionTreeClassifier(criterion = \"gini\", random_state = 100,\n",
    "                               max_depth=5, min_samples_leaf=5)\n",
    "dt_clf_gini.fit(X_train, y_train)\n",
    "### Desicion Tree with Information Gain ###\n",
    "\n",
    "dt_clf_entropy = DecisionTreeClassifier(criterion = \"entropy\", random_state = 100,\n",
    " max_depth=5, min_samples_leaf=5)\n",
    "\n",
    "dt_clf_entropy.fit(X_train, y_train)\n",
    "\n",
    "y_pred_gini = dt_clf_gini.predict(X_test)\n",
    "y_pred_en = dt_clf_entropy.predict(X_test)\n",
    "\n",
    "print (\"Desicion Tree using Gini Index\\nAccuracy is \", accuracy_score(y_test,y_pred_gini)*100 )\n",
    "print (\"Desicion Tree using Information Gain\\nAccuracy is \", accuracy_score(y_test,y_pred_en)*100 )\n"
   ]
  },
  {
   "cell_type": "code",
   "execution_count": 14,
   "metadata": {
    "pycharm": {
     "is_executing": false,
     "name": "#%%\n"
    }
   },
   "outputs": [],
   "source": [
    "##############################\n",
    "\n",
    "import pickle\n",
    "\n",
    "#creating and training a model\n",
    "#serializing our model to a file called model.pkl\n",
    "pickle.dump(dt_clf_gini, open(\"NewModel/model.pkl\",\"wb\"))\n",
    "\n"
   ]
  },
  {
   "cell_type": "code",
   "execution_count": null,
   "metadata": {
    "pycharm": {
     "name": "#%%\n"
    }
   },
   "outputs": [],
   "source": [
    "\n"
   ]
  },
  {
   "cell_type": "code",
   "execution_count": null,
   "metadata": {
    "pycharm": {
     "name": "#%%\n"
    }
   },
   "outputs": [],
   "source": [
    "\n"
   ]
  },
  {
   "cell_type": "code",
   "execution_count": null,
   "metadata": {
    "pycharm": {
     "name": "#%%\n"
    }
   },
   "outputs": [],
   "source": [
    "\n"
   ]
  }
 ],
 "metadata": {
  "kernelspec": {
   "display_name": "Python 3",
   "language": "python",
   "name": "python3"
  },
  "language_info": {
   "codemirror_mode": {
    "name": "ipython",
    "version": 3
   },
   "file_extension": ".py",
   "mimetype": "text/x-python",
   "name": "python",
   "nbconvert_exporter": "python",
   "pygments_lexer": "ipython3",
   "version": "3.7.6"
  },
  "pycharm": {
   "stem_cell": {
    "cell_type": "raw",
    "source": [],
    "metadata": {
     "collapsed": false
    }
   }
  }
 },
 "nbformat": 4,
 "nbformat_minor": 1
}